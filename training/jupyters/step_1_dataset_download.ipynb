{
 "cells": [
  {
   "cell_type": "markdown",
   "id": "0e846b81",
   "metadata": {},
   "source": [
    "# Cats vs Dogs dataset downlods"
   ]
  },
  {
   "cell_type": "code",
   "execution_count": 1,
   "id": "581517bf",
   "metadata": {},
   "outputs": [
    {
     "name": "stderr",
     "output_type": "stream",
     "text": [
      "/home/juancarlos/Documents/dev/vision/cats_vs_dogs_parallel_inference/.venv/lib/python3.10/site-packages/tqdm/auto.py:21: TqdmWarning: IProgress not found. Please update jupyter and ipywidgets. See https://ipywidgets.readthedocs.io/en/stable/user_install.html\n",
      "  from .autonotebook import tqdm as notebook_tqdm\n"
     ]
    }
   ],
   "source": [
    "from datasets import load_dataset"
   ]
  },
  {
   "cell_type": "code",
   "execution_count": 2,
   "id": "e0c83791",
   "metadata": {},
   "outputs": [
    {
     "name": "stdout",
     "output_type": "stream",
     "text": [
      "Number of images: 23410\n",
      "Example: {'image': <PIL.JpegImagePlugin.JpegImageFile image mode=RGB size=500x375 at 0x7DD48872EA40>, 'labels': 0}\n"
     ]
    }
   ],
   "source": [
    "dataset = load_dataset(\"microsoft/cats_vs_dogs\", split=\"train\")\n",
    "print(f\"Number of images: {len(dataset)}\")\n",
    "print(\"Example:\", dataset[0])"
   ]
  },
  {
   "cell_type": "code",
   "execution_count": 3,
   "id": "4f2cbf87",
   "metadata": {},
   "outputs": [],
   "source": [
    "import os\n",
    "from tqdm import tqdm\n",
    "\n",
    "# Destination folder\n",
    "save_dir = \"../../dataset\"\n",
    "cats_dir = os.path.join(save_dir, \"cats\")\n",
    "dogs_dir = os.path.join(save_dir, \"dogs\")"
   ]
  },
  {
   "cell_type": "code",
   "execution_count": 4,
   "id": "07f66e52",
   "metadata": {},
   "outputs": [],
   "source": [
    "# Create directories if they don't exist\n",
    "os.makedirs(cats_dir, exist_ok=True)\n",
    "os.makedirs(dogs_dir, exist_ok=True)"
   ]
  },
  {
   "cell_type": "code",
   "execution_count": 5,
   "id": "767d39bc",
   "metadata": {},
   "outputs": [
    {
     "name": "stderr",
     "output_type": "stream",
     "text": [
      "Saving images: 100%|██████████| 23410/23410 [00:23<00:00, 1001.42it/s]\n"
     ]
    }
   ],
   "source": [
    "for idx, sample in tqdm(enumerate(dataset), total=len(dataset), desc=\"Saving images\"):\n",
    "    image = sample['image']\n",
    "    label = sample['labels']  # 0: Cat, 1: Dog\n",
    "    \n",
    "    filename = f\"{'cat' if label == 0 else 'dog'}_{idx}.jpg\"\n",
    "    save_path = os.path.join(cats_dir if label == 0 else dogs_dir, filename)\n",
    "    \n",
    "    image.save(save_path)"
   ]
  },
  {
   "cell_type": "code",
   "execution_count": null,
   "id": "0d18fa67",
   "metadata": {},
   "outputs": [],
   "source": []
  }
 ],
 "metadata": {
  "kernelspec": {
   "display_name": ".venv",
   "language": "python",
   "name": "python3"
  },
  "language_info": {
   "codemirror_mode": {
    "name": "ipython",
    "version": 3
   },
   "file_extension": ".py",
   "mimetype": "text/x-python",
   "name": "python",
   "nbconvert_exporter": "python",
   "pygments_lexer": "ipython3",
   "version": "3.10.17"
  }
 },
 "nbformat": 4,
 "nbformat_minor": 5
}
